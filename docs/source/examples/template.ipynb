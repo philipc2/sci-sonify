{
 "cells": [
  {
   "cell_type": "markdown",
   "source": [
    "# Sample Notebook"
   ],
   "metadata": {
    "collapsed": false
   },
   "id": "c625133baafa4123"
  },
  {
   "cell_type": "code",
   "execution_count": null,
   "id": "initial_id",
   "metadata": {
    "collapsed": true
   },
   "outputs": [],
   "source": [
    "# template"
   ]
  },
  {
   "cell_type": "code",
   "execution_count": null,
   "outputs": [],
   "source": [
    "print(\"Test\")"
   ],
   "metadata": {
    "collapsed": false
   },
   "id": "a22acbbb70d57cf5"
  },
  {
   "cell_type": "code",
   "execution_count": null,
   "outputs": [],
   "source": [
    "import numpy as np\n",
    "from scisonify.core.soundmaps import DiscreteNoteBins\n",
    "from scisonify import Sonify"
   ],
   "metadata": {
    "collapsed": false
   },
   "id": "5fef877aa16cc8ff"
  },
  {
   "cell_type": "code",
   "execution_count": null,
   "outputs": [],
   "source": [
    "data = np.linspace(0.1, 0.99, 50)"
   ],
   "metadata": {
    "collapsed": false
   },
   "id": "d0583713e0bba454"
  },
  {
   "cell_type": "code",
   "execution_count": null,
   "outputs": [],
   "source": [
    "smap = DiscreteNoteBins.from_key(key='Fb:min', octave_range=(4, 5))"
   ],
   "metadata": {
    "collapsed": false
   },
   "id": "4cf86aca2eef4fab"
  },
  {
   "cell_type": "code",
   "execution_count": null,
   "outputs": [],
   "source": [
    "smap = DiscreteNoteBins.from_midi(60, 70)"
   ],
   "metadata": {
    "collapsed": false
   },
   "id": "84c95976ef562745"
  },
  {
   "cell_type": "code",
   "execution_count": null,
   "outputs": [],
   "source": [
    "sonify = Sonify(data=data, smap=smap)\n",
    "sonify.to_audio(note_length=0.1, wave='sine')"
   ],
   "metadata": {
    "collapsed": false
   },
   "id": "5ff9ecd293c5da2f"
  }
 ],
 "metadata": {
  "kernelspec": {
   "display_name": "Python 3",
   "language": "python",
   "name": "python3"
  },
  "language_info": {
   "codemirror_mode": {
    "name": "ipython",
    "version": 2
   },
   "file_extension": ".py",
   "mimetype": "text/x-python",
   "name": "python",
   "nbconvert_exporter": "python",
   "pygments_lexer": "ipython2",
   "version": "2.7.6"
  }
 },
 "nbformat": 4,
 "nbformat_minor": 5
}
