{
 "cells": [
  {
   "cell_type": "markdown",
   "source": [
    "# The Sound of Climate Change "
   ],
   "metadata": {
    "collapsed": false
   },
   "id": "a3ce2b8ca0346344"
  },
  {
   "cell_type": "markdown",
   "source": [
    "## Data"
   ],
   "metadata": {
    "collapsed": false
   },
   "id": "1b1eda58f760ccd"
  },
  {
   "cell_type": "code",
   "execution_count": null,
   "outputs": [],
   "source": [
    "import xarray as xr"
   ],
   "metadata": {
    "collapsed": false
   },
   "id": "c3e635de56fc2eba"
  },
  {
   "cell_type": "code",
   "execution_count": null,
   "outputs": [],
   "source": [
    "data_path = \"data/NOAAGlobalTemp_v5.0.0_gridded_s188001_e202212_c20230108T133308.nc\""
   ],
   "metadata": {
    "collapsed": false
   },
   "id": "2a842ddd0eae780b"
  },
  {
   "cell_type": "code",
   "execution_count": null,
   "outputs": [],
   "source": [
    "ds = xr.open_dataset(data_path)"
   ],
   "metadata": {
    "collapsed": false
   },
   "id": "95d72ac5b85cac47"
  },
  {
   "cell_type": "code",
   "execution_count": null,
   "outputs": [],
   "source": [
    "ds_yearly = ds.groupby('time.year').mean()"
   ],
   "metadata": {
    "collapsed": false
   },
   "id": "35449499b9bd60bd"
  },
  {
   "cell_type": "code",
   "execution_count": null,
   "outputs": [],
   "source": [
    "anom = ds_yearly['anom'].mean(skipna=True, dim=['lat', 'lon', 'z'])"
   ],
   "metadata": {
    "collapsed": false
   },
   "id": "400229c28db3c8d0"
  },
  {
   "cell_type": "code",
   "execution_count": null,
   "outputs": [],
   "source": [
    "anom"
   ],
   "metadata": {
    "collapsed": false
   },
   "id": "cb390b1423e449f3"
  },
  {
   "cell_type": "markdown",
   "source": [
    "## Sonification"
   ],
   "metadata": {
    "collapsed": false
   },
   "id": "4a37cb40f93d20e9"
  },
  {
   "cell_type": "code",
   "execution_count": null,
   "outputs": [],
   "source": [
    "from scisonify.core.soundmaps import DiscreteNoteBins\n",
    "import scisonify.xarray"
   ],
   "metadata": {
    "collapsed": false
   },
   "id": "4a6b177c99f0824a"
  },
  {
   "cell_type": "code",
   "execution_count": null,
   "outputs": [],
   "source": [
    "smap = DiscreteNoteBins.from_key(\"F:min\", octave_range=(3, 6))"
   ],
   "metadata": {
    "collapsed": false
   },
   "id": "86338f8c5024db89"
  },
  {
   "cell_type": "code",
   "execution_count": null,
   "outputs": [],
   "source": [
    "anom.sonify(note_length=0.10,  wave='sine', smap=smap)"
   ],
   "metadata": {
    "collapsed": false
   },
   "id": "13347d1fa347f58b"
  },
  {
   "cell_type": "code",
   "execution_count": null,
   "outputs": [],
   "source": [
    "import matplotlib.pyplot as plt"
   ],
   "metadata": {
    "collapsed": false
   },
   "id": "5b6b9a4d0e0045e2"
  },
  {
   "cell_type": "code",
   "execution_count": null,
   "outputs": [],
   "source": [
    "plt.figure(figsize=(10, 5))\n",
    "plt.plot(ds_yearly.year, sonify.to_frequency(), \"o-\", ms=2, lw=0.5)"
   ],
   "metadata": {
    "collapsed": false
   },
   "id": "af2cda6f1108947"
  },
  {
   "cell_type": "code",
   "execution_count": null,
   "outputs": [],
   "source": [],
   "metadata": {
    "collapsed": false
   },
   "id": "a29d2f39c5336c07"
  }
 ],
 "metadata": {
  "kernelspec": {
   "display_name": "Python 3",
   "language": "python",
   "name": "python3"
  },
  "language_info": {
   "codemirror_mode": {
    "name": "ipython",
    "version": 2
   },
   "file_extension": ".py",
   "mimetype": "text/x-python",
   "name": "python",
   "nbconvert_exporter": "python",
   "pygments_lexer": "ipython2",
   "version": "2.7.6"
  }
 },
 "nbformat": 4,
 "nbformat_minor": 5
}
