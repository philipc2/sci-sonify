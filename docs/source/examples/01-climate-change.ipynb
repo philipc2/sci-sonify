{
 "cells": [
  {
   "cell_type": "markdown",
   "source": [
    "# The Sound of Climate Change "
   ],
   "metadata": {
    "collapsed": false
   },
   "id": "a3ce2b8ca0346344"
  },
  {
   "cell_type": "markdown",
   "source": [
    "## Data"
   ],
   "metadata": {
    "collapsed": false
   },
   "id": "1b1eda58f760ccd"
  },
  {
   "cell_type": "code",
   "execution_count": 2,
   "outputs": [],
   "source": [
    "import xarray as xr"
   ],
   "metadata": {
    "collapsed": false,
    "ExecuteTime": {
     "end_time": "2023-12-04T00:05:11.361001Z",
     "start_time": "2023-12-04T00:05:10.983103Z"
    }
   },
   "id": "c3e635de56fc2eba"
  },
  {
   "cell_type": "code",
   "execution_count": 3,
   "outputs": [],
   "source": [
    "data_path = \"data/NOAAGlobalTemp_v5.0.0_gridded_s188001_e202212_c20230108T133308.nc\""
   ],
   "metadata": {
    "collapsed": false,
    "ExecuteTime": {
     "end_time": "2023-12-04T00:05:11.365332200Z",
     "start_time": "2023-12-04T00:05:11.362453Z"
    }
   },
   "id": "2a842ddd0eae780b"
  },
  {
   "cell_type": "code",
   "execution_count": 4,
   "outputs": [],
   "source": [
    "ds = xr.open_dataset(data_path)"
   ],
   "metadata": {
    "collapsed": false,
    "ExecuteTime": {
     "end_time": "2023-12-04T00:05:11.409472400Z",
     "start_time": "2023-12-04T00:05:11.363961200Z"
    }
   },
   "id": "95d72ac5b85cac47"
  },
  {
   "cell_type": "code",
   "execution_count": 5,
   "outputs": [],
   "source": [
    "ds_yearly = ds.groupby('time.year').mean()"
   ],
   "metadata": {
    "collapsed": false,
    "ExecuteTime": {
     "end_time": "2023-12-04T00:05:11.585786Z",
     "start_time": "2023-12-04T00:05:11.410471900Z"
    }
   },
   "id": "35449499b9bd60bd"
  },
  {
   "cell_type": "code",
   "execution_count": 6,
   "outputs": [],
   "source": [
    "anom = ds_yearly['anom'].mean(skipna=True, dim=['lat', 'lon', 'z'])"
   ],
   "metadata": {
    "collapsed": false,
    "ExecuteTime": {
     "end_time": "2023-12-04T00:05:11.593056900Z",
     "start_time": "2023-12-04T00:05:11.586786Z"
    }
   },
   "id": "400229c28db3c8d0"
  },
  {
   "cell_type": "code",
   "execution_count": 7,
   "outputs": [
    {
     "data": {
      "text/plain": "<xarray.DataArray 'anom' (year: 143)>\narray([-0.3943866 , -0.41972142, -0.4036848 , -0.48530814, -0.57469773,\n       -0.5889563 , -0.57268155, -0.5909827 , -0.44562352, -0.38252443,\n       -0.63903975, -0.52612305, -0.570924  , -0.59950167, -0.5950165 ,\n       -0.5180988 , -0.41718104, -0.44207883, -0.56131285, -0.4545371 ,\n       -0.4238661 , -0.46986705, -0.60135543, -0.66082263, -0.72585166,\n       -0.5568018 , -0.4936252 , -0.6894805 , -0.72841936, -0.75785506,\n       -0.7034879 , -0.75667304, -0.6826453 , -0.65288305, -0.4602562 ,\n       -0.43005922, -0.6172296 , -0.71297073, -0.59762526, -0.6004663 ,\n       -0.59456426, -0.47546577, -0.5666871 , -0.56307   , -0.5301119 ,\n       -0.47914082, -0.38606668, -0.4893744 , -0.4795832 , -0.6426879 ,\n       -0.4171341 , -0.38618568, -0.42179072, -0.59395295, -0.39917687,\n       -0.45938993, -0.40029082, -0.29080656, -0.2633328 , -0.27344295,\n       -0.16464116, -0.11016758, -0.20841345, -0.13299076,  0.01565617,\n       -0.13738923, -0.37518796, -0.30405325, -0.35113192, -0.35852575,\n       -0.4490882 , -0.32934034, -0.27240175, -0.1811699 , -0.3751917 ,\n       -0.43210554, -0.45517403, -0.25939453, -0.23247351, -0.24851352,\n       -0.2775711 , -0.22983077, -0.22023346, -0.2538945 , -0.48913643,\n       -0.41327626, -0.3905886 , -0.2777611 , -0.34331083, -0.2701262 ,\n       -0.2839199 , -0.34365183, -0.3231848 , -0.12641443, -0.37112936,\n       -0.2359808 , -0.36379242, -0.06907614, -0.20542464, -0.13779244,\n       -0.04034564,  0.06257632, -0.15661713,  0.04536498, -0.12573433,\n       -0.14191881, -0.09556889, -0.00960468,  0.07597412, -0.00842201,\n        0.1378755 ,  0.09291187, -0.09948993, -0.03128164,  0.00182989,\n        0.19177724,  0.01640899,  0.18606322,  0.2912497 ,  0.10348047,\n        0.11754002,  0.25927433,  0.31287512,  0.3265392 ,  0.24369767,\n        0.38980773,  0.3379023 ,  0.38573822,  0.26357874,  0.31855157,\n        0.4427373 ,  0.34472087,  0.38057834,  0.3780964 ,  0.42638323,\n        0.5900977 ,  0.727808  ,  0.64048296,  0.5329775 ,  0.67719775,\n        0.7383068 ,  0.5341347 ,  0.592656  ], dtype=float32)\nCoordinates:\n  * year     (year) int64 1880 1881 1882 1883 1884 ... 2018 2019 2020 2021 2022",
      "text/html": "<div><svg style=\"position: absolute; width: 0; height: 0; overflow: hidden\">\n<defs>\n<symbol id=\"icon-database\" viewBox=\"0 0 32 32\">\n<path d=\"M16 0c-8.837 0-16 2.239-16 5v4c0 2.761 7.163 5 16 5s16-2.239 16-5v-4c0-2.761-7.163-5-16-5z\"></path>\n<path d=\"M16 17c-8.837 0-16-2.239-16-5v6c0 2.761 7.163 5 16 5s16-2.239 16-5v-6c0 2.761-7.163 5-16 5z\"></path>\n<path d=\"M16 26c-8.837 0-16-2.239-16-5v6c0 2.761 7.163 5 16 5s16-2.239 16-5v-6c0 2.761-7.163 5-16 5z\"></path>\n</symbol>\n<symbol id=\"icon-file-text2\" viewBox=\"0 0 32 32\">\n<path d=\"M28.681 7.159c-0.694-0.947-1.662-2.053-2.724-3.116s-2.169-2.030-3.116-2.724c-1.612-1.182-2.393-1.319-2.841-1.319h-15.5c-1.378 0-2.5 1.121-2.5 2.5v27c0 1.378 1.122 2.5 2.5 2.5h23c1.378 0 2.5-1.122 2.5-2.5v-19.5c0-0.448-0.137-1.23-1.319-2.841zM24.543 5.457c0.959 0.959 1.712 1.825 2.268 2.543h-4.811v-4.811c0.718 0.556 1.584 1.309 2.543 2.268zM28 29.5c0 0.271-0.229 0.5-0.5 0.5h-23c-0.271 0-0.5-0.229-0.5-0.5v-27c0-0.271 0.229-0.5 0.5-0.5 0 0 15.499-0 15.5 0v7c0 0.552 0.448 1 1 1h7v19.5z\"></path>\n<path d=\"M23 26h-14c-0.552 0-1-0.448-1-1s0.448-1 1-1h14c0.552 0 1 0.448 1 1s-0.448 1-1 1z\"></path>\n<path d=\"M23 22h-14c-0.552 0-1-0.448-1-1s0.448-1 1-1h14c0.552 0 1 0.448 1 1s-0.448 1-1 1z\"></path>\n<path d=\"M23 18h-14c-0.552 0-1-0.448-1-1s0.448-1 1-1h14c0.552 0 1 0.448 1 1s-0.448 1-1 1z\"></path>\n</symbol>\n</defs>\n</svg>\n<style>/* CSS stylesheet for displaying xarray objects in jupyterlab.\n *\n */\n\n:root {\n  --xr-font-color0: var(--jp-content-font-color0, rgba(0, 0, 0, 1));\n  --xr-font-color2: var(--jp-content-font-color2, rgba(0, 0, 0, 0.54));\n  --xr-font-color3: var(--jp-content-font-color3, rgba(0, 0, 0, 0.38));\n  --xr-border-color: var(--jp-border-color2, #e0e0e0);\n  --xr-disabled-color: var(--jp-layout-color3, #bdbdbd);\n  --xr-background-color: var(--jp-layout-color0, white);\n  --xr-background-color-row-even: var(--jp-layout-color1, white);\n  --xr-background-color-row-odd: var(--jp-layout-color2, #eeeeee);\n}\n\nhtml[theme=dark],\nbody[data-theme=dark],\nbody.vscode-dark {\n  --xr-font-color0: rgba(255, 255, 255, 1);\n  --xr-font-color2: rgba(255, 255, 255, 0.54);\n  --xr-font-color3: rgba(255, 255, 255, 0.38);\n  --xr-border-color: #1F1F1F;\n  --xr-disabled-color: #515151;\n  --xr-background-color: #111111;\n  --xr-background-color-row-even: #111111;\n  --xr-background-color-row-odd: #313131;\n}\n\n.xr-wrap {\n  display: block !important;\n  min-width: 300px;\n  max-width: 700px;\n}\n\n.xr-text-repr-fallback {\n  /* fallback to plain text repr when CSS is not injected (untrusted notebook) */\n  display: none;\n}\n\n.xr-header {\n  padding-top: 6px;\n  padding-bottom: 6px;\n  margin-bottom: 4px;\n  border-bottom: solid 1px var(--xr-border-color);\n}\n\n.xr-header > div,\n.xr-header > ul {\n  display: inline;\n  margin-top: 0;\n  margin-bottom: 0;\n}\n\n.xr-obj-type,\n.xr-array-name {\n  margin-left: 2px;\n  margin-right: 10px;\n}\n\n.xr-obj-type {\n  color: var(--xr-font-color2);\n}\n\n.xr-sections {\n  padding-left: 0 !important;\n  display: grid;\n  grid-template-columns: 150px auto auto 1fr 20px 20px;\n}\n\n.xr-section-item {\n  display: contents;\n}\n\n.xr-section-item input {\n  display: none;\n}\n\n.xr-section-item input + label {\n  color: var(--xr-disabled-color);\n}\n\n.xr-section-item input:enabled + label {\n  cursor: pointer;\n  color: var(--xr-font-color2);\n}\n\n.xr-section-item input:enabled + label:hover {\n  color: var(--xr-font-color0);\n}\n\n.xr-section-summary {\n  grid-column: 1;\n  color: var(--xr-font-color2);\n  font-weight: 500;\n}\n\n.xr-section-summary > span {\n  display: inline-block;\n  padding-left: 0.5em;\n}\n\n.xr-section-summary-in:disabled + label {\n  color: var(--xr-font-color2);\n}\n\n.xr-section-summary-in + label:before {\n  display: inline-block;\n  content: '►';\n  font-size: 11px;\n  width: 15px;\n  text-align: center;\n}\n\n.xr-section-summary-in:disabled + label:before {\n  color: var(--xr-disabled-color);\n}\n\n.xr-section-summary-in:checked + label:before {\n  content: '▼';\n}\n\n.xr-section-summary-in:checked + label > span {\n  display: none;\n}\n\n.xr-section-summary,\n.xr-section-inline-details {\n  padding-top: 4px;\n  padding-bottom: 4px;\n}\n\n.xr-section-inline-details {\n  grid-column: 2 / -1;\n}\n\n.xr-section-details {\n  display: none;\n  grid-column: 1 / -1;\n  margin-bottom: 5px;\n}\n\n.xr-section-summary-in:checked ~ .xr-section-details {\n  display: contents;\n}\n\n.xr-array-wrap {\n  grid-column: 1 / -1;\n  display: grid;\n  grid-template-columns: 20px auto;\n}\n\n.xr-array-wrap > label {\n  grid-column: 1;\n  vertical-align: top;\n}\n\n.xr-preview {\n  color: var(--xr-font-color3);\n}\n\n.xr-array-preview,\n.xr-array-data {\n  padding: 0 5px !important;\n  grid-column: 2;\n}\n\n.xr-array-data,\n.xr-array-in:checked ~ .xr-array-preview {\n  display: none;\n}\n\n.xr-array-in:checked ~ .xr-array-data,\n.xr-array-preview {\n  display: inline-block;\n}\n\n.xr-dim-list {\n  display: inline-block !important;\n  list-style: none;\n  padding: 0 !important;\n  margin: 0;\n}\n\n.xr-dim-list li {\n  display: inline-block;\n  padding: 0;\n  margin: 0;\n}\n\n.xr-dim-list:before {\n  content: '(';\n}\n\n.xr-dim-list:after {\n  content: ')';\n}\n\n.xr-dim-list li:not(:last-child):after {\n  content: ',';\n  padding-right: 5px;\n}\n\n.xr-has-index {\n  font-weight: bold;\n}\n\n.xr-var-list,\n.xr-var-item {\n  display: contents;\n}\n\n.xr-var-item > div,\n.xr-var-item label,\n.xr-var-item > .xr-var-name span {\n  background-color: var(--xr-background-color-row-even);\n  margin-bottom: 0;\n}\n\n.xr-var-item > .xr-var-name:hover span {\n  padding-right: 5px;\n}\n\n.xr-var-list > li:nth-child(odd) > div,\n.xr-var-list > li:nth-child(odd) > label,\n.xr-var-list > li:nth-child(odd) > .xr-var-name span {\n  background-color: var(--xr-background-color-row-odd);\n}\n\n.xr-var-name {\n  grid-column: 1;\n}\n\n.xr-var-dims {\n  grid-column: 2;\n}\n\n.xr-var-dtype {\n  grid-column: 3;\n  text-align: right;\n  color: var(--xr-font-color2);\n}\n\n.xr-var-preview {\n  grid-column: 4;\n}\n\n.xr-index-preview {\n  grid-column: 2 / 5;\n  color: var(--xr-font-color2);\n}\n\n.xr-var-name,\n.xr-var-dims,\n.xr-var-dtype,\n.xr-preview,\n.xr-attrs dt {\n  white-space: nowrap;\n  overflow: hidden;\n  text-overflow: ellipsis;\n  padding-right: 10px;\n}\n\n.xr-var-name:hover,\n.xr-var-dims:hover,\n.xr-var-dtype:hover,\n.xr-attrs dt:hover {\n  overflow: visible;\n  width: auto;\n  z-index: 1;\n}\n\n.xr-var-attrs,\n.xr-var-data,\n.xr-index-data {\n  display: none;\n  background-color: var(--xr-background-color) !important;\n  padding-bottom: 5px !important;\n}\n\n.xr-var-attrs-in:checked ~ .xr-var-attrs,\n.xr-var-data-in:checked ~ .xr-var-data,\n.xr-index-data-in:checked ~ .xr-index-data {\n  display: block;\n}\n\n.xr-var-data > table {\n  float: right;\n}\n\n.xr-var-name span,\n.xr-var-data,\n.xr-index-name div,\n.xr-index-data,\n.xr-attrs {\n  padding-left: 25px !important;\n}\n\n.xr-attrs,\n.xr-var-attrs,\n.xr-var-data,\n.xr-index-data {\n  grid-column: 1 / -1;\n}\n\ndl.xr-attrs {\n  padding: 0;\n  margin: 0;\n  display: grid;\n  grid-template-columns: 125px auto;\n}\n\n.xr-attrs dt,\n.xr-attrs dd {\n  padding: 0;\n  margin: 0;\n  float: left;\n  padding-right: 10px;\n  width: auto;\n}\n\n.xr-attrs dt {\n  font-weight: normal;\n  grid-column: 1;\n}\n\n.xr-attrs dt:hover span {\n  display: inline-block;\n  background: var(--xr-background-color);\n  padding-right: 10px;\n}\n\n.xr-attrs dd {\n  grid-column: 2;\n  white-space: pre-wrap;\n  word-break: break-all;\n}\n\n.xr-icon-database,\n.xr-icon-file-text2,\n.xr-no-icon {\n  display: inline-block;\n  vertical-align: middle;\n  width: 1em;\n  height: 1.5em !important;\n  stroke-width: 0;\n  stroke: currentColor;\n  fill: currentColor;\n}\n</style><pre class='xr-text-repr-fallback'>&lt;xarray.DataArray &#x27;anom&#x27; (year: 143)&gt;\narray([-0.3943866 , -0.41972142, -0.4036848 , -0.48530814, -0.57469773,\n       -0.5889563 , -0.57268155, -0.5909827 , -0.44562352, -0.38252443,\n       -0.63903975, -0.52612305, -0.570924  , -0.59950167, -0.5950165 ,\n       -0.5180988 , -0.41718104, -0.44207883, -0.56131285, -0.4545371 ,\n       -0.4238661 , -0.46986705, -0.60135543, -0.66082263, -0.72585166,\n       -0.5568018 , -0.4936252 , -0.6894805 , -0.72841936, -0.75785506,\n       -0.7034879 , -0.75667304, -0.6826453 , -0.65288305, -0.4602562 ,\n       -0.43005922, -0.6172296 , -0.71297073, -0.59762526, -0.6004663 ,\n       -0.59456426, -0.47546577, -0.5666871 , -0.56307   , -0.5301119 ,\n       -0.47914082, -0.38606668, -0.4893744 , -0.4795832 , -0.6426879 ,\n       -0.4171341 , -0.38618568, -0.42179072, -0.59395295, -0.39917687,\n       -0.45938993, -0.40029082, -0.29080656, -0.2633328 , -0.27344295,\n       -0.16464116, -0.11016758, -0.20841345, -0.13299076,  0.01565617,\n       -0.13738923, -0.37518796, -0.30405325, -0.35113192, -0.35852575,\n       -0.4490882 , -0.32934034, -0.27240175, -0.1811699 , -0.3751917 ,\n       -0.43210554, -0.45517403, -0.25939453, -0.23247351, -0.24851352,\n       -0.2775711 , -0.22983077, -0.22023346, -0.2538945 , -0.48913643,\n       -0.41327626, -0.3905886 , -0.2777611 , -0.34331083, -0.2701262 ,\n       -0.2839199 , -0.34365183, -0.3231848 , -0.12641443, -0.37112936,\n       -0.2359808 , -0.36379242, -0.06907614, -0.20542464, -0.13779244,\n       -0.04034564,  0.06257632, -0.15661713,  0.04536498, -0.12573433,\n       -0.14191881, -0.09556889, -0.00960468,  0.07597412, -0.00842201,\n        0.1378755 ,  0.09291187, -0.09948993, -0.03128164,  0.00182989,\n        0.19177724,  0.01640899,  0.18606322,  0.2912497 ,  0.10348047,\n        0.11754002,  0.25927433,  0.31287512,  0.3265392 ,  0.24369767,\n        0.38980773,  0.3379023 ,  0.38573822,  0.26357874,  0.31855157,\n        0.4427373 ,  0.34472087,  0.38057834,  0.3780964 ,  0.42638323,\n        0.5900977 ,  0.727808  ,  0.64048296,  0.5329775 ,  0.67719775,\n        0.7383068 ,  0.5341347 ,  0.592656  ], dtype=float32)\nCoordinates:\n  * year     (year) int64 1880 1881 1882 1883 1884 ... 2018 2019 2020 2021 2022</pre><div class='xr-wrap' style='display:none'><div class='xr-header'><div class='xr-obj-type'>xarray.DataArray</div><div class='xr-array-name'>'anom'</div><ul class='xr-dim-list'><li><span class='xr-has-index'>year</span>: 143</li></ul></div><ul class='xr-sections'><li class='xr-section-item'><div class='xr-array-wrap'><input id='section-96fdf5e5-096a-4cf5-9424-0b126cccd5c5' class='xr-array-in' type='checkbox' checked><label for='section-96fdf5e5-096a-4cf5-9424-0b126cccd5c5' title='Show/hide data repr'><svg class='icon xr-icon-database'><use xlink:href='#icon-database'></use></svg></label><div class='xr-array-preview xr-preview'><span>-0.3944 -0.4197 -0.4037 -0.4853 ... 0.6772 0.7383 0.5341 0.5927</span></div><div class='xr-array-data'><pre>array([-0.3943866 , -0.41972142, -0.4036848 , -0.48530814, -0.57469773,\n       -0.5889563 , -0.57268155, -0.5909827 , -0.44562352, -0.38252443,\n       -0.63903975, -0.52612305, -0.570924  , -0.59950167, -0.5950165 ,\n       -0.5180988 , -0.41718104, -0.44207883, -0.56131285, -0.4545371 ,\n       -0.4238661 , -0.46986705, -0.60135543, -0.66082263, -0.72585166,\n       -0.5568018 , -0.4936252 , -0.6894805 , -0.72841936, -0.75785506,\n       -0.7034879 , -0.75667304, -0.6826453 , -0.65288305, -0.4602562 ,\n       -0.43005922, -0.6172296 , -0.71297073, -0.59762526, -0.6004663 ,\n       -0.59456426, -0.47546577, -0.5666871 , -0.56307   , -0.5301119 ,\n       -0.47914082, -0.38606668, -0.4893744 , -0.4795832 , -0.6426879 ,\n       -0.4171341 , -0.38618568, -0.42179072, -0.59395295, -0.39917687,\n       -0.45938993, -0.40029082, -0.29080656, -0.2633328 , -0.27344295,\n       -0.16464116, -0.11016758, -0.20841345, -0.13299076,  0.01565617,\n       -0.13738923, -0.37518796, -0.30405325, -0.35113192, -0.35852575,\n       -0.4490882 , -0.32934034, -0.27240175, -0.1811699 , -0.3751917 ,\n       -0.43210554, -0.45517403, -0.25939453, -0.23247351, -0.24851352,\n       -0.2775711 , -0.22983077, -0.22023346, -0.2538945 , -0.48913643,\n       -0.41327626, -0.3905886 , -0.2777611 , -0.34331083, -0.2701262 ,\n       -0.2839199 , -0.34365183, -0.3231848 , -0.12641443, -0.37112936,\n       -0.2359808 , -0.36379242, -0.06907614, -0.20542464, -0.13779244,\n       -0.04034564,  0.06257632, -0.15661713,  0.04536498, -0.12573433,\n       -0.14191881, -0.09556889, -0.00960468,  0.07597412, -0.00842201,\n        0.1378755 ,  0.09291187, -0.09948993, -0.03128164,  0.00182989,\n        0.19177724,  0.01640899,  0.18606322,  0.2912497 ,  0.10348047,\n        0.11754002,  0.25927433,  0.31287512,  0.3265392 ,  0.24369767,\n        0.38980773,  0.3379023 ,  0.38573822,  0.26357874,  0.31855157,\n        0.4427373 ,  0.34472087,  0.38057834,  0.3780964 ,  0.42638323,\n        0.5900977 ,  0.727808  ,  0.64048296,  0.5329775 ,  0.67719775,\n        0.7383068 ,  0.5341347 ,  0.592656  ], dtype=float32)</pre></div></div></li><li class='xr-section-item'><input id='section-ed9c4f2a-36f0-4d59-819b-a0fdc9589419' class='xr-section-summary-in' type='checkbox'  checked><label for='section-ed9c4f2a-36f0-4d59-819b-a0fdc9589419' class='xr-section-summary' >Coordinates: <span>(1)</span></label><div class='xr-section-inline-details'></div><div class='xr-section-details'><ul class='xr-var-list'><li class='xr-var-item'><div class='xr-var-name'><span class='xr-has-index'>year</span></div><div class='xr-var-dims'>(year)</div><div class='xr-var-dtype'>int64</div><div class='xr-var-preview xr-preview'>1880 1881 1882 ... 2020 2021 2022</div><input id='attrs-5323ec11-6f88-4ae1-8e43-4a502d3c38e7' class='xr-var-attrs-in' type='checkbox' disabled><label for='attrs-5323ec11-6f88-4ae1-8e43-4a502d3c38e7' title='Show/Hide attributes'><svg class='icon xr-icon-file-text2'><use xlink:href='#icon-file-text2'></use></svg></label><input id='data-e42d8e96-32ec-40ee-b148-c6c17cd930f7' class='xr-var-data-in' type='checkbox'><label for='data-e42d8e96-32ec-40ee-b148-c6c17cd930f7' title='Show/Hide data repr'><svg class='icon xr-icon-database'><use xlink:href='#icon-database'></use></svg></label><div class='xr-var-attrs'><dl class='xr-attrs'></dl></div><div class='xr-var-data'><pre>array([1880, 1881, 1882, 1883, 1884, 1885, 1886, 1887, 1888, 1889, 1890, 1891,\n       1892, 1893, 1894, 1895, 1896, 1897, 1898, 1899, 1900, 1901, 1902, 1903,\n       1904, 1905, 1906, 1907, 1908, 1909, 1910, 1911, 1912, 1913, 1914, 1915,\n       1916, 1917, 1918, 1919, 1920, 1921, 1922, 1923, 1924, 1925, 1926, 1927,\n       1928, 1929, 1930, 1931, 1932, 1933, 1934, 1935, 1936, 1937, 1938, 1939,\n       1940, 1941, 1942, 1943, 1944, 1945, 1946, 1947, 1948, 1949, 1950, 1951,\n       1952, 1953, 1954, 1955, 1956, 1957, 1958, 1959, 1960, 1961, 1962, 1963,\n       1964, 1965, 1966, 1967, 1968, 1969, 1970, 1971, 1972, 1973, 1974, 1975,\n       1976, 1977, 1978, 1979, 1980, 1981, 1982, 1983, 1984, 1985, 1986, 1987,\n       1988, 1989, 1990, 1991, 1992, 1993, 1994, 1995, 1996, 1997, 1998, 1999,\n       2000, 2001, 2002, 2003, 2004, 2005, 2006, 2007, 2008, 2009, 2010, 2011,\n       2012, 2013, 2014, 2015, 2016, 2017, 2018, 2019, 2020, 2021, 2022],\n      dtype=int64)</pre></div></li></ul></div></li><li class='xr-section-item'><input id='section-8c07f71b-7628-4b19-b016-4261bde84c3e' class='xr-section-summary-in' type='checkbox'  ><label for='section-8c07f71b-7628-4b19-b016-4261bde84c3e' class='xr-section-summary' >Indexes: <span>(1)</span></label><div class='xr-section-inline-details'></div><div class='xr-section-details'><ul class='xr-var-list'><li class='xr-var-item'><div class='xr-index-name'><div>year</div></div><div class='xr-index-preview'>PandasIndex</div><div></div><input id='index-e166d98b-4db1-4b3b-9613-1b1816c93cca' class='xr-index-data-in' type='checkbox'/><label for='index-e166d98b-4db1-4b3b-9613-1b1816c93cca' title='Show/Hide index repr'><svg class='icon xr-icon-database'><use xlink:href='#icon-database'></use></svg></label><div class='xr-index-data'><pre>PandasIndex(Index([1880, 1881, 1882, 1883, 1884, 1885, 1886, 1887, 1888, 1889,\n       ...\n       2013, 2014, 2015, 2016, 2017, 2018, 2019, 2020, 2021, 2022],\n      dtype=&#x27;int64&#x27;, name=&#x27;year&#x27;, length=143))</pre></div></li></ul></div></li><li class='xr-section-item'><input id='section-f2541624-4991-49ed-9cac-58d179095363' class='xr-section-summary-in' type='checkbox' disabled ><label for='section-f2541624-4991-49ed-9cac-58d179095363' class='xr-section-summary'  title='Expand/collapse section'>Attributes: <span>(0)</span></label><div class='xr-section-inline-details'></div><div class='xr-section-details'><dl class='xr-attrs'></dl></div></li></ul></div></div>"
     },
     "execution_count": 7,
     "metadata": {},
     "output_type": "execute_result"
    }
   ],
   "source": [
    "anom"
   ],
   "metadata": {
    "collapsed": false,
    "ExecuteTime": {
     "end_time": "2023-12-04T00:05:11.654962Z",
     "start_time": "2023-12-04T00:05:11.643152800Z"
    }
   },
   "id": "cb390b1423e449f3"
  },
  {
   "cell_type": "markdown",
   "source": [
    "## Sonification"
   ],
   "metadata": {
    "collapsed": false
   },
   "id": "4a37cb40f93d20e9"
  },
  {
   "cell_type": "code",
   "execution_count": null,
   "outputs": [],
   "source": [
    "from scisonify import Sonify\n",
    "from scisonify.core.soundmaps import DiscreteNoteBins"
   ],
   "metadata": {
    "collapsed": false
   },
   "id": "4a6b177c99f0824a"
  },
  {
   "cell_type": "code",
   "execution_count": null,
   "outputs": [],
   "source": [
    "smap = DiscreteNoteBins.from_key(\"F:min\", octave_range=(3, 6))\n",
    "sonify = Sonify(data=anom, smap=smap)"
   ],
   "metadata": {
    "collapsed": false
   },
   "id": "86338f8c5024db89"
  },
  {
   "cell_type": "code",
   "execution_count": null,
   "outputs": [],
   "source": [
    "smap._notes"
   ],
   "metadata": {
    "collapsed": false
   },
   "id": "13347d1fa347f58b"
  },
  {
   "cell_type": "code",
   "execution_count": null,
   "outputs": [],
   "source": [
    "sonify.to_audio(note_length=0.10,  wave='sine')"
   ],
   "metadata": {
    "collapsed": false
   },
   "id": "c192bc039a3389a3"
  },
  {
   "cell_type": "code",
   "execution_count": null,
   "outputs": [],
   "source": [
    "import matplotlib.pyplot as plt"
   ],
   "metadata": {
    "collapsed": false
   },
   "id": "5b6b9a4d0e0045e2"
  },
  {
   "cell_type": "code",
   "execution_count": null,
   "outputs": [],
   "source": [
    "plt.figure(figsize=(10, 5))\n",
    "plt.plot(ds_yearly.year, sonify.to_frequency(), \"o-\", ms=2, lw=0.5)"
   ],
   "metadata": {
    "collapsed": false
   },
   "id": "af2cda6f1108947"
  },
  {
   "cell_type": "code",
   "execution_count": null,
   "outputs": [],
   "source": [],
   "metadata": {
    "collapsed": false
   },
   "id": "a29d2f39c5336c07"
  }
 ],
 "metadata": {
  "kernelspec": {
   "display_name": "Python 3",
   "language": "python",
   "name": "python3"
  },
  "language_info": {
   "codemirror_mode": {
    "name": "ipython",
    "version": 2
   },
   "file_extension": ".py",
   "mimetype": "text/x-python",
   "name": "python",
   "nbconvert_exporter": "python",
   "pygments_lexer": "ipython2",
   "version": "2.7.6"
  }
 },
 "nbformat": 4,
 "nbformat_minor": 5
}
