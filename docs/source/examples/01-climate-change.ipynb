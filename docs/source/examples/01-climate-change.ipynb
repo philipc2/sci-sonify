{
 "cells": [
  {
   "cell_type": "markdown",
   "source": [
    "# The Sound of Climate Change "
   ],
   "metadata": {
    "collapsed": false
   },
   "id": "a3ce2b8ca0346344"
  },
  {
   "cell_type": "code",
   "execution_count": null,
   "outputs": [],
   "source": [],
   "metadata": {
    "collapsed": false
   },
   "id": "2a842ddd0eae780b"
  }
 ],
 "metadata": {
  "kernelspec": {
   "display_name": "Python 3",
   "language": "python",
   "name": "python3"
  },
  "language_info": {
   "codemirror_mode": {
    "name": "ipython",
    "version": 2
   },
   "file_extension": ".py",
   "mimetype": "text/x-python",
   "name": "python",
   "nbconvert_exporter": "python",
   "pygments_lexer": "ipython2",
   "version": "2.7.6"
  }
 },
 "nbformat": 4,
 "nbformat_minor": 5
}
