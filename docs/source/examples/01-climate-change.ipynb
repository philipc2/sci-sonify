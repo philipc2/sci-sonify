{
 "cells": [
  {
   "cell_type": "markdown",
   "source": [
    "# The Sound of Climate Change "
   ],
   "metadata": {
    "collapsed": false
   },
   "id": "a3ce2b8ca0346344"
  },
  {
   "cell_type": "markdown",
   "source": [
    "## Data\n",
    "\n",
    "In this example, we use the [NOAA Global Surface Temperature Dataset (NOAAGlobalTemp)](https://www.ncei.noaa.gov/access/metadata/landing-page/bin/iso?id=gov.noaa.ncdc:C01585), which provides gridded monthly surface temperature anomalies since 1880."
   ],
   "metadata": {
    "collapsed": false
   },
   "id": "1b1eda58f760ccd"
  },
  {
   "cell_type": "code",
   "execution_count": null,
   "outputs": [],
   "source": [
    "import xarray as xr"
   ],
   "metadata": {
    "collapsed": false
   },
   "id": "c3e635de56fc2eba"
  },
  {
   "cell_type": "code",
   "execution_count": null,
   "outputs": [],
   "source": [
    "data_path = \"data/NOAAGlobalTemp_v5.0.0_gridded_s188001_e202212_c20230108T133308.nc\"\n",
    "ds = xr.open_dataset(data_path)\n",
    "ds"
   ],
   "metadata": {
    "collapsed": false
   },
   "id": "2a842ddd0eae780b"
  },
  {
   "cell_type": "markdown",
   "source": [
    "To perform our Sonification, we need to first reduce the dimensionality of our data into a one-dimensional time series. \n",
    "\n",
    "We can achieve this by taking the global average of each grid cell over our desired time dimension (in our case, years)"
   ],
   "metadata": {
    "collapsed": false
   },
   "id": "8a66171d35405637"
  },
  {
   "cell_type": "code",
   "execution_count": null,
   "outputs": [],
   "source": [
    "ds_yearly = ds.groupby('time.year').mean()\n",
    "anom = ds_yearly['anom'].mean(skipna=True, dim=['lat', 'lon', 'z'])\n",
    "anom"
   ],
   "metadata": {
    "collapsed": false
   },
   "id": "35449499b9bd60bd"
  },
  {
   "cell_type": "markdown",
   "source": [
    "## Sonification\n",
    "\n",
    "Now that we have a one-dimensional time series, we can perform our sonification.\n",
    "\n",
    "We first need to specify our SoundMap, which will be used to turn each data point into a musical note."
   ],
   "metadata": {
    "collapsed": false
   },
   "id": "4a37cb40f93d20e9"
  },
  {
   "cell_type": "code",
   "execution_count": null,
   "outputs": [],
   "source": [
    "from scisonify.core.soundmaps import DiscreteNoteBins"
   ],
   "metadata": {
    "collapsed": false
   },
   "id": "4a6b177c99f0824a"
  },
  {
   "cell_type": "markdown",
   "source": [
    "Here we choose a 3-octave F flat minor scale to be used as our notes"
   ],
   "metadata": {
    "collapsed": false
   },
   "id": "8e185abcff34ef10"
  },
  {
   "cell_type": "code",
   "execution_count": null,
   "outputs": [],
   "source": [
    "smap = DiscreteNoteBins.from_key(\"Fb:min\", octave_range=(3, 6))"
   ],
   "metadata": {
    "collapsed": false
   },
   "id": "86338f8c5024db89"
  },
  {
   "cell_type": "markdown",
   "source": [
    "Next, we import `scisonify.xarray`, which will allow us to perform our sonification directly on an Xarray DataArray"
   ],
   "metadata": {
    "collapsed": false
   },
   "id": "5c5ac26796c7c782"
  },
  {
   "cell_type": "code",
   "execution_count": null,
   "outputs": [],
   "source": [
    "import scisonify.xarray"
   ],
   "metadata": {
    "collapsed": false
   },
   "id": "f3f80b043d1b5037"
  },
  {
   "cell_type": "code",
   "execution_count": null,
   "outputs": [],
   "source": [
    "anom.sonify(note_length=0.1, wave='sine', smap=smap)"
   ],
   "metadata": {
    "collapsed": false
   },
   "id": "13347d1fa347f58b"
  },
  {
   "cell_type": "markdown",
   "source": [
    "In addition to listening to our data, we can plot each point as a note to visualize the audio."
   ],
   "metadata": {
    "collapsed": false
   },
   "id": "459a0d616a6f1950"
  },
  {
   "cell_type": "code",
   "execution_count": null,
   "outputs": [],
   "source": [
    "anom.sonify.plot(x=anom.year, \n",
    "                 xlabel=\"Year\", \n",
    "                 marker='o', \n",
    "                 linewidth=0, \n",
    "                 ms=3.0,\n",
    "                 figsize=(20, 10), \n",
    "                 title=\"Yearly Global Temperature Anomaly as Notes\")"
   ],
   "metadata": {
    "collapsed": false
   },
   "id": "83e7ed8184b6dd7b"
  },
  {
   "cell_type": "markdown",
   "source": [
    "We can compare to this the actual plot of our Temperature anomalies"
   ],
   "metadata": {
    "collapsed": false
   },
   "id": "9e1071b8521d7338"
  },
  {
   "cell_type": "code",
   "execution_count": null,
   "outputs": [],
   "source": [
    "anom.plot(figsize=(20, 10), \n",
    "          ms=3,\n",
    "          lw=0.5,\n",
    "          marker='o')"
   ],
   "metadata": {
    "collapsed": false
   },
   "id": "f5cc8dbd277e6cbe"
  }
 ],
 "metadata": {
  "kernelspec": {
   "display_name": "Python 3",
   "language": "python",
   "name": "python3"
  },
  "language_info": {
   "codemirror_mode": {
    "name": "ipython",
    "version": 2
   },
   "file_extension": ".py",
   "mimetype": "text/x-python",
   "name": "python",
   "nbconvert_exporter": "python",
   "pygments_lexer": "ipython2",
   "version": "2.7.6"
  }
 },
 "nbformat": 4,
 "nbformat_minor": 5
}
