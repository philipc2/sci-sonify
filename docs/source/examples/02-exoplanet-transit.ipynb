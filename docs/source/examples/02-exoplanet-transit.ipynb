{
 "cells": [
  {
   "cell_type": "markdown",
   "source": [
    "# The Sound of a Transiting Exoplanet"
   ],
   "metadata": {
    "collapsed": false
   },
   "id": "a3ce2b8ca0346344"
  },
  {
   "cell_type": "code",
   "execution_count": null,
   "outputs": [],
   "source": [
    "import matplotlib.pyplot as plt"
   ],
   "metadata": {
    "collapsed": false
   },
   "id": "3ea1fb643d8ab589"
  },
  {
   "cell_type": "markdown",
   "source": [
    "## Data"
   ],
   "metadata": {
    "collapsed": false
   },
   "id": "34ef35a81f4d673e"
  },
  {
   "cell_type": "code",
   "execution_count": null,
   "outputs": [],
   "source": [
    "from astropy.utils.data import get_pkg_data_filename\n",
    "from astropy.timeseries import TimeSeries\n",
    "\n",
    "import numpy as np\n",
    "from astropy import units as u\n",
    "from astropy.timeseries import BoxLeastSquares\n",
    "from astropy.stats import sigma_clipped_stats\n",
    "from astropy.timeseries import aggregate_downsample\n",
    "import matplotlib.pyplot as plt\n",
    "import pandas as pd\n",
    "\n",
    "filename = get_pkg_data_filename('timeseries/kplr010666592-2009131110544_slc.fits')  \n",
    "ts = TimeSeries.read(filename, format='kepler.fits') \n",
    "\n",
    "periodogram = BoxLeastSquares.from_timeseries(ts, 'sap_flux')  \n",
    "\n",
    "results = periodogram.autopower(0.2 * u.day)  \n",
    "best = np.argmax(results.power)  \n",
    "period = results.period[best]   \n",
    "transit_time = results.transit_time[best]  \n",
    "\n",
    "mean, median, stddev = sigma_clipped_stats(ts['sap_flux'])  \n",
    "ts['sap_flux_norm'] = ts['sap_flux'] / median  \n",
    "ts_binned = aggregate_downsample(ts, time_bin_size=0.02 * u.day)  "
   ],
   "metadata": {
    "collapsed": false
   },
   "id": "2a81ab2f312f740e"
  },
  {
   "cell_type": "code",
   "execution_count": null,
   "outputs": [],
   "source": [
    "plt.figure(figsize=(20, 10))\n",
    "plt.plot(ts.time.jd, ts['sap_flux'], 'k.', markersize=1)\n",
    "plt.xlabel('Time (days)')\n",
    "plt.ylabel('SAP Flux (e-/s)')"
   ],
   "metadata": {
    "collapsed": false
   },
   "id": "7ff7dfcd12ad6c4"
  },
  {
   "cell_type": "code",
   "execution_count": null,
   "outputs": [],
   "source": [
    "plt.figure(figsize=(20, 10))\n",
    "plt.plot(ts_binned.time_bin_start.jd, ts_binned['sap_flux_norm'], 'k.', markersize=2)\n",
    "plt.xlabel('Time (days)')\n",
    "plt.ylabel('SAP Flux (e-/s)')\n",
    "plt.plot(ts_binned.time_bin_start.jd, ts_binned['sap_flux_norm'], 'r-', drawstyle='steps-post')\n",
    "plt.xlabel('Time (days)')\n",
    "plt.ylabel('Normalized flux')"
   ],
   "metadata": {
    "collapsed": false
   },
   "id": "a7880c5d09882989"
  },
  {
   "cell_type": "markdown",
   "source": [
    "## Sonification"
   ],
   "metadata": {
    "collapsed": false
   },
   "id": "d170941b0b7dc369"
  },
  {
   "cell_type": "code",
   "execution_count": null,
   "outputs": [],
   "source": [
    "from scisonify.core.soundmaps import DiscreteNoteBins"
   ],
   "metadata": {
    "collapsed": false
   },
   "id": "c870bd0167bba10e"
  },
  {
   "cell_type": "code",
   "execution_count": null,
   "outputs": [],
   "source": [
    "smap = DiscreteNoteBins.from_key(\"C:dor\", octave_range=(3, 4))"
   ],
   "metadata": {
    "collapsed": false
   },
   "id": "17dd160e5a7083ad"
  },
  {
   "cell_type": "code",
   "execution_count": null,
   "outputs": [],
   "source": [
    "import scisonify.pandas"
   ],
   "metadata": {
    "collapsed": false
   },
   "id": "e57b92c5643e681f"
  },
  {
   "cell_type": "code",
   "execution_count": null,
   "outputs": [],
   "source": [
    "import pandas as pd\n",
    "\n",
    "sap_flux_norm_binned = pd.Series(ts_binned['sap_flux_norm'].value)\n",
    "time = ts_binned.time_bin_start.jd"
   ],
   "metadata": {
    "collapsed": false
   },
   "id": "8a77918d0af281d6"
  },
  {
   "cell_type": "code",
   "execution_count": null,
   "outputs": [],
   "source": [
    "sap_flux_norm_binned.sonify(smap=smap, note_length = 0.10)"
   ],
   "metadata": {
    "collapsed": false
   },
   "id": "df7ae1d31d4f4dff"
  },
  {
   "cell_type": "code",
   "execution_count": null,
   "outputs": [],
   "source": [
    "sap_flux_norm_binned.sonify.plot(x=time, ms=1, figsize=(20, 10), title=\"Normalized & Binned SAP Flux as Musical Notes\", xlabel=\"Julian Date\")"
   ],
   "metadata": {
    "collapsed": false
   },
   "id": "218b2cbf75757b4"
  }
 ],
 "metadata": {
  "kernelspec": {
   "display_name": "Python 3",
   "language": "python",
   "name": "python3"
  },
  "language_info": {
   "codemirror_mode": {
    "name": "ipython",
    "version": 2
   },
   "file_extension": ".py",
   "mimetype": "text/x-python",
   "name": "python",
   "nbconvert_exporter": "python",
   "pygments_lexer": "ipython2",
   "version": "2.7.6"
  }
 },
 "nbformat": 4,
 "nbformat_minor": 5
}
